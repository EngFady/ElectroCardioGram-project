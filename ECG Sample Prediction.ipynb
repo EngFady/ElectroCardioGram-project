{
 "cells": [
  {
   "cell_type": "code",
   "execution_count": 72,
   "metadata": {},
   "outputs": [],
   "source": [
    "import pandas as pd \n",
    "import numpy as np\n",
    "import matplotlib.pyplot as plt\n",
    "import seaborn as sns\n",
    "import os\n",
    "import joblib\n",
    "from tensorflow.keras.models import model_from_json"
   ]
  },
  {
   "cell_type": "code",
   "execution_count": 73,
   "metadata": {},
   "outputs": [],
   "source": [
    "os.chdir(r'D:\\0 bit\\ECG')"
   ]
  },
  {
   "cell_type": "code",
   "execution_count": 74,
   "metadata": {},
   "outputs": [],
   "source": [
    "data  = pd.read_csv('case_sample.csv')"
   ]
  },
  {
   "cell_type": "code",
   "execution_count": 75,
   "metadata": {},
   "outputs": [],
   "source": [
    "sample = data.T"
   ]
  },
  {
   "cell_type": "code",
   "execution_count": 76,
   "metadata": {},
   "outputs": [
    {
     "data": {
      "text/html": [
       "<div>\n",
       "<style scoped>\n",
       "    .dataframe tbody tr th:only-of-type {\n",
       "        vertical-align: middle;\n",
       "    }\n",
       "\n",
       "    .dataframe tbody tr th {\n",
       "        vertical-align: top;\n",
       "    }\n",
       "\n",
       "    .dataframe thead th {\n",
       "        text-align: right;\n",
       "    }\n",
       "</style>\n",
       "<table border=\"1\" class=\"dataframe\">\n",
       "  <thead>\n",
       "    <tr style=\"text-align: right;\">\n",
       "      <th></th>\n",
       "      <th>768</th>\n",
       "    </tr>\n",
       "  </thead>\n",
       "  <tbody>\n",
       "    <tr>\n",
       "      <th>0</th>\n",
       "      <td>758</td>\n",
       "    </tr>\n",
       "    <tr>\n",
       "      <th>1</th>\n",
       "      <td>754</td>\n",
       "    </tr>\n",
       "    <tr>\n",
       "      <th>2</th>\n",
       "      <td>755</td>\n",
       "    </tr>\n",
       "    <tr>\n",
       "      <th>3</th>\n",
       "      <td>755</td>\n",
       "    </tr>\n",
       "    <tr>\n",
       "      <th>4</th>\n",
       "      <td>764</td>\n",
       "    </tr>\n",
       "  </tbody>\n",
       "</table>\n",
       "</div>"
      ],
      "text/plain": [
       "   768\n",
       "0  758\n",
       "1  754\n",
       "2  755\n",
       "3  755\n",
       "4  764"
      ]
     },
     "execution_count": 76,
     "metadata": {},
     "output_type": "execute_result"
    }
   ],
   "source": [
    "data.head()"
   ]
  },
  {
   "cell_type": "code",
   "execution_count": 77,
   "metadata": {},
   "outputs": [
    {
     "data": {
      "text/plain": [
       "(1, 187)"
      ]
     },
     "execution_count": 77,
     "metadata": {},
     "output_type": "execute_result"
    }
   ],
   "source": [
    "sample.shape"
   ]
  },
  {
   "cell_type": "code",
   "execution_count": 78,
   "metadata": {},
   "outputs": [
    {
     "data": {
      "text/plain": [
       "'D:\\\\0 bit\\\\ECG'"
      ]
     },
     "execution_count": 78,
     "metadata": {},
     "output_type": "execute_result"
    }
   ],
   "source": [
    "os.getcwd()"
   ]
  },
  {
   "cell_type": "code",
   "execution_count": 79,
   "metadata": {},
   "outputs": [],
   "source": [
    "scaler = joblib.load('scaller.h5')"
   ]
  },
  {
   "cell_type": "code",
   "execution_count": 80,
   "metadata": {},
   "outputs": [
    {
     "name": "stdout",
     "output_type": "stream",
     "text": [
      "Loaded model from disk\n"
     ]
    }
   ],
   "source": [
    "# load json and create model\n",
    "json_file = open('model.json', 'r')\n",
    "loaded_model_json = json_file.read()\n",
    "json_file.close()\n",
    "loaded_model = model_from_json(loaded_model_json)\n",
    "# load weights into new model\n",
    "loaded_model.load_weights(\"model.h5\")\n",
    "print(\"Loaded model from disk\")"
   ]
  },
  {
   "cell_type": "code",
   "execution_count": 81,
   "metadata": {},
   "outputs": [],
   "source": [
    "sample = scaler.fit_transform(sample)"
   ]
  },
  {
   "cell_type": "code",
   "execution_count": 82,
   "metadata": {},
   "outputs": [
    {
     "data": {
      "text/plain": [
       "0.07193069812502202"
      ]
     },
     "execution_count": 82,
     "metadata": {},
     "output_type": "execute_result"
    }
   ],
   "source": [
    "sample[0][1]"
   ]
  },
  {
   "cell_type": "code",
   "execution_count": 83,
   "metadata": {},
   "outputs": [],
   "source": [
    "result = np.round(loaded_model.predict(sample))"
   ]
  },
  {
   "cell_type": "code",
   "execution_count": 84,
   "metadata": {},
   "outputs": [
    {
     "data": {
      "text/plain": [
       "array([[0., 1., 0., 0., 0.]], dtype=float32)"
      ]
     },
     "execution_count": 84,
     "metadata": {},
     "output_type": "execute_result"
    }
   ],
   "source": [
    "result"
   ]
  },
  {
   "cell_type": "code",
   "execution_count": 85,
   "metadata": {},
   "outputs": [],
   "source": [
    "result = result.tolist()"
   ]
  },
  {
   "cell_type": "code",
   "execution_count": 86,
   "metadata": {},
   "outputs": [],
   "source": [
    "result = result[0]"
   ]
  },
  {
   "cell_type": "code",
   "execution_count": 109,
   "metadata": {},
   "outputs": [
    {
     "name": "stdout",
     "output_type": "stream",
     "text": [
      "Supraventricular ectopic beats\n"
     ]
    }
   ],
   "source": [
    "if result[0] == 1:\n",
    "    x = 'Non-ectopic beats (normal beat)'\n",
    "    print(x)\n",
    "elif result[1] == 1:\n",
    "    x = 'Supraventricular ectopic beats'\n",
    "    print(x)\n",
    "elif result[2] == 1:\n",
    "    x = 'Ventricular ectopic beats'\n",
    "    print(x)\n",
    "elif result[3] == 1:\n",
    "    x = 'Fusion Beats'\n",
    "    print(x)\n",
    "elif result[4] == 1:\n",
    "    x = 'Unknown Beats'\n",
    "    print(x)"
   ]
  },
  {
   "cell_type": "code",
   "execution_count": 110,
   "metadata": {},
   "outputs": [
    {
     "data": {
      "text/plain": [
       "'Supraventricular ectopic beats'"
      ]
     },
     "execution_count": 110,
     "metadata": {},
     "output_type": "execute_result"
    }
   ],
   "source": [
    "x"
   ]
  },
  {
   "cell_type": "code",
   "execution_count": 1,
   "metadata": {},
   "outputs": [
    {
     "data": {
      "text/plain": [
       "3229582608"
      ]
     },
     "execution_count": 1,
     "metadata": {},
     "output_type": "execute_result"
    }
   ],
   "source": [
    "import random\n",
    "v = random.randint(0,10000000000)\n",
    "v"
   ]
  },
  {
   "cell_type": "code",
   "execution_count": 111,
   "metadata": {},
   "outputs": [
    {
     "name": "stdout",
     "output_type": "stream",
     "text": [
      "the result (Heart arrhythmia type ) : Supraventricular ectopic beats \n",
      " the number of the case : 4662636693\n"
     ]
    }
   ],
   "source": [
    "print(f'the result (Heart arrhythmia type ) : {x} \\n the number of the case : {v}')"
   ]
  },
  {
   "cell_type": "code",
   "execution_count": 90,
   "metadata": {},
   "outputs": [
    {
     "data": {
      "image/png": "[encoded data removed]",
      "text/plain": [
       "<Figure size 720x360 with 1 Axes>"
      ]
     },
     "metadata": {
      "needs_background": "light"
     },
     "output_type": "display_data"
    }
   ],
   "source": [
    "from matplotlib.pyplot import figure\n",
    "x = pd.DataFrame(sample)\n",
    "n = 6087305601\n",
    "bins = np.arange(0, 58 + 2, 2).max()\n",
    "plt.figure(figsize = [10,5])\n",
    "plt.plot(x.iloc[0,:], color = 'blue')\n",
    "plt.xlim([-25, 201])\n",
    "plt.savefig(f'{v}.jpg');"
   ]
  },
  {
   "cell_type": "code",
   "execution_count": 91,
   "metadata": {},
   "outputs": [],
   "source": [
    "x = x.to_json()"
   ]
  },
  {
   "cell_type": "markdown",
   "metadata": {},
   "source": [
    "## save data in the realtime database (Firbase)"
   ]
  },
  {
   "cell_type": "code",
   "execution_count": 112,
   "metadata": {},
   "outputs": [],
   "source": [
    "from weakref import ref\n",
    "import firebase_admin\n",
    "from firebase_admin import credentials\n",
    "from firebase_admin import db\n",
    "\n",
    "\n",
    "# service account credentials\n",
    "cred = credentials.Certificate(r'D:\\0 bit\\ECG\\bycrash-f16c4-firebase-adminsdk-q95ea-21e5665ac8.json')\n",
    "\n",
    "# initializing the app\n",
    "firebase_admin.initialize_app(cred,{\n",
    "    'databaseURL' : 'https://bycrash-f16c4-default-rtdb.firebaseio.com/'\n",
    "})"
   ]
  },
  {
   "cell_type": "code",
   "execution_count": 113,
   "metadata": {},
   "outputs": [
    {
     "name": "stdout",
     "output_type": "stream",
     "text": [
      "4662636693\n"
     ]
    }
   ],
   "source": [
    "print(v)\n",
    "ref = db.reference(f'case{v}')\n",
    "ref.set({\n",
    "'number' :  {\n",
    "    '1' : v\n",
    "           },\n",
    "'result' : {\n",
    "    '2' : x\n",
    "}\n",
    "})"
   ]
  },
  {
   "cell_type": "markdown",
   "metadata": {},
   "source": [
    "## Save Data In json file"
   ]
  },
  {
   "cell_type": "code",
   "execution_count": 95,
   "metadata": {},
   "outputs": [],
   "source": [
    "import json\n",
    "def write_json(data, filename = r'D:\\avd\\bullet\\assets\\data2.json'):\n",
    "    with open (filename, 'w') as f:\n",
    "        json.dump(data, f)\n",
    "with open (r'D:\\avd\\bullet\\assets\\data2.json') as json_file:\n",
    "    data = json.load(json_file)\n",
    "    temp = data['cases']\n",
    "    y = {'number' : v, 'result' : x}\n",
    "    temp.append(y)\n",
    "write_json(data)"
   ]
  },
  {
   "cell_type": "markdown",
   "metadata": {},
   "source": [
    "### Save The Data in SQLITE"
   ]
  },
  {
   "cell_type": "code",
   "execution_count": 96,
   "metadata": {},
   "outputs": [],
   "source": [
    "import sqlite3 as sql"
   ]
  },
  {
   "cell_type": "code",
   "execution_count": 97,
   "metadata": {},
   "outputs": [],
   "source": [
    "conn = sql.connect('disease result.db')"
   ]
  },
  {
   "cell_type": "code",
   "execution_count": 98,
   "metadata": {},
   "outputs": [],
   "source": [
    "c = conn.cursor()"
   ]
  },
  {
   "cell_type": "code",
   "execution_count": 99,
   "metadata": {
    "scrolled": true
   },
   "outputs": [],
   "source": [
    "# c.execute(\"\"\"   CREATE TABLE patients (\n",
    "\n",
    "# id INTEGER NOT NULL PRIMARY KEY,\n",
    "# result text\n",
    "# )   \"\"\")\n",
    "# conn.commit()\n"
   ]
  },
  {
   "cell_type": "code",
   "execution_count": 100,
   "metadata": {},
   "outputs": [],
   "source": [
    "# c.execute(\"\"\" SELECT id FROM patients \"\"\")\n",
    "# n = c.fetchone()\n",
    "# conn.commit()"
   ]
  },
  {
   "cell_type": "code",
   "execution_count": 101,
   "metadata": {},
   "outputs": [
    {
     "data": {
      "text/plain": [
       "1"
      ]
     },
     "execution_count": 101,
     "metadata": {},
     "output_type": "execute_result"
    }
   ],
   "source": [
    "# n[0]"
   ]
  },
  {
   "cell_type": "code",
   "execution_count": 2,
   "metadata": {},
   "outputs": [],
   "source": [
    "# id = len(n +1) + 3\n",
    "# c.execute(f\"INSERT INTO patients values (?, ?)\",(id,x))\n",
    "# conn.commit()"
   ]
  },
  {
   "cell_type": "code",
   "execution_count": 103,
   "metadata": {},
   "outputs": [],
   "source": [
    "conn.close()"
   ]
  },
  {
   "cell_type": "markdown",
   "metadata": {},
   "source": [
    "## save data in xampp mysql"
   ]
  },
  {
   "cell_type": "code",
   "execution_count": 104,
   "metadata": {},
   "outputs": [],
   "source": [
    "# import mysql.connector\n",
    "# import sys\n",
    "# from PIL import Image\n",
    "# import base64\n",
    "# import PIL.Image\n",
    "# image = Image.open(r'D:\\0 bit\\ECG\\6087305601.jpg')\n",
    "# blob_value = open(r'D:\\0 bit\\ECG\\6087305601.jpg', 'rb').read()\n",
    "# args = (blob_value)\n"
   ]
  },
  {
   "cell_type": "code",
   "execution_count": 1,
   "metadata": {},
   "outputs": [],
   "source": [
    "import mysql.connector\n",
    "conn = mysql.connector.connect(host = 'localhost', port = '3306', user = 'root', password = '', database = 'projectt2')\n",
    "cursor = conn.cursor()\n",
    "sql = \"INSERT INTO doctor (id, email, password) VALUES (%s, %s, %s)\"\n",
    "val = (9, 'drsayed@ecg.com', '123456')\n",
    "\n",
    "cursor.execute(sql, val)\n",
    "\n",
    "conn.commit()\n",
    "\n",
    "print(cursor.rowcount, \"record inserted.\")"
   ]
  },
  {
   "cell_type": "code",
   "execution_count": 114,
   "metadata": {},
   "outputs": [
    {
     "name": "stdout",
     "output_type": "stream",
     "text": [
      "1 record inserted.\n"
     ]
    }
   ],
   "source": [
    "import mysql.connector\n",
    "conn = mysql.connector.connect(host = 'localhost', port = '3306', user = 'root', password = '', database = 'projectt2')\n",
    "cursor = conn.cursor()\n",
    "sql = \"INSERT INTO patient (serial_number, patient_case) VALUES (%s, %s)\"\n",
    "val = (v, x)\n",
    "cursor.execute(sql, val)\n",
    "conn.commit()\n",
    "print(cursor.rowcount, \"record inserted.\")"
   ]
  },
  {
   "cell_type": "code",
   "execution_count": 115,
   "metadata": {},
   "outputs": [],
   "source": [
    "# sql1='select * from img'\n",
    "# conn.commit()\n",
    "# cursor.execute(sql1)\n",
    "# data=cursor.fetchall()\n",
    "# print (type(data[0][0]))\n",
    "# file_like=cStringIO.StringIO(data[0][0])\n",
    "# img=PIL.Image.open(file_like)\n",
    "# img.show()\n",
    "\n",
    "# db.close()"
   ]
  },
  {
   "cell_type": "code",
   "execution_count": null,
   "metadata": {},
   "outputs": [],
   "source": [
    "# import base64\n",
    "# import io\n",
    "# sql1=\"select * from patient\"\n",
    "# cursor.execute(sql1)\n",
    "# data = cursor.fetchall()"
   ]
  },
  {
   "cell_type": "markdown",
   "metadata": {},
   "source": [
    "## saving data to csv file"
   ]
  },
  {
   "cell_type": "code",
   "execution_count": 116,
   "metadata": {},
   "outputs": [],
   "source": [
    "\n",
    "\n",
    "# def convertToBinaryData(filename):\n",
    "#     # Convert digital data to binary format\n",
    "#     with open(filename, 'rb') as file:\n",
    "#         binaryData = file.read()\n",
    "#     return binaryData\n",
    "\n",
    "\n",
    "\n",
    "# def insertBLOB(photo):\n",
    "#     print(\"Inserting BLOB into python_employee table\")\n",
    "#     try:\n",
    "\n",
    "#         sql_insert_blob_query = \"\"\" INSERT INTO python_employee\n",
    "#                           (id, name, photo, biodata) VALUES (%s,%s,%s,%s)\"\"\"\n",
    "\n",
    "#         empPicture = convertToBinaryData(photo)\n",
    "\n",
    "#         # Convert data into tuple format\n",
    "#         insert_blob_tuple = (empPicture)\n",
    "#         result = cursor.execute(sql_insert_blob_query, insert_blob_tuple)\n",
    "#         connection.commit()\n",
    "#         print(\"Image and file inserted successfully as a BLOB into python_employee table\", result)\n",
    "\n",
    "#     except mysql.connector.Error as error:\n",
    "#         print(\"Failed inserting BLOB data into MySQL table {}\".format(error))\n",
    "\n",
    "\n",
    "\n",
    "# insertBLOB(r'D:\\0 bit\\ECG\\6087305601.JPG')"
   ]
  },
  {
   "cell_type": "code",
   "execution_count": null,
   "metadata": {},
   "outputs": [],
   "source": [
    "import PIL.Image"
   ]
  }
 ],
 "metadata": {
  "kernelspec": {
   "display_name": "Python 3",
   "language": "python",
   "name": "python3"
  },
  "language_info": {
   "codemirror_mode": {
    "name": "ipython",
    "version": 3
   },
   "file_extension": ".py",
   "mimetype": "text/x-python",
   "name": "python",
   "nbconvert_exporter": "python",
   "pygments_lexer": "ipython3",
   "version": "3.8.8"
  }
 },
 "nbformat": 4,
 "nbformat_minor": 1
}
